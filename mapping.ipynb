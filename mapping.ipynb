{
 "cells": [
  {
   "cell_type": "markdown",
   "metadata": {},
   "source": [
    "# Mapping"
   ]
  },
  {
   "cell_type": "markdown",
   "metadata": {},
   "source": [
    "Creamos el grafo:"
   ]
  },
  {
   "cell_type": "code",
   "execution_count": 1,
   "metadata": {},
   "outputs": [],
   "source": [
    "from rdflib import Graph, Namespace, Literal, FOAF, RDF, XSD\n",
    "g = Graph()\n",
    "dat = Namespace('https://junjingw.github.io/bacteria-ontologia/data/')\n",
    "ont = Namespace('https://junjingw.github.io/bacteria-ontologia/ontology#')"
   ]
  },
  {
   "cell_type": "markdown",
   "metadata": {},
   "source": [
    "Obtenemos los datos subidos al github:"
   ]
  },
  {
   "cell_type": "code",
   "execution_count": 2,
   "metadata": {},
   "outputs": [
    {
     "data": {
      "text/html": [
       "<div>\n",
       "<style scoped>\n",
       "    .dataframe tbody tr th:only-of-type {\n",
       "        vertical-align: middle;\n",
       "    }\n",
       "\n",
       "    .dataframe tbody tr th {\n",
       "        vertical-align: top;\n",
       "    }\n",
       "\n",
       "    .dataframe thead th {\n",
       "        text-align: right;\n",
       "    }\n",
       "</style>\n",
       "<table border=\"1\" class=\"dataframe\">\n",
       "  <thead>\n",
       "    <tr style=\"text-align: right;\">\n",
       "      <th></th>\n",
       "      <th>pathogen_name</th>\n",
       "      <th>taxonid</th>\n",
       "      <th>ARG_name</th>\n",
       "      <th>frequency</th>\n",
       "      <th>antibiotic_name</th>\n",
       "    </tr>\n",
       "  </thead>\n",
       "  <tbody>\n",
       "    <tr>\n",
       "      <th>0</th>\n",
       "      <td>Staphylococcus aureus</td>\n",
       "      <td>1280</td>\n",
       "      <td>Tetracycline-resistant ribosomal protection pr...</td>\n",
       "      <td>0.12148</td>\n",
       "      <td>Tetracycline antibiotic</td>\n",
       "    </tr>\n",
       "    <tr>\n",
       "      <th>1</th>\n",
       "      <td>Staphylococcus aureus</td>\n",
       "      <td>1280</td>\n",
       "      <td>VanH</td>\n",
       "      <td>0.00053</td>\n",
       "      <td>glycoPeptide antibiotic</td>\n",
       "    </tr>\n",
       "  </tbody>\n",
       "</table>\n",
       "</div>"
      ],
      "text/plain": [
       "           pathogen_name  taxonid  \\\n",
       "0  Staphylococcus aureus     1280   \n",
       "1  Staphylococcus aureus     1280   \n",
       "\n",
       "                                            ARG_name  frequency  \\\n",
       "0  Tetracycline-resistant ribosomal protection pr...    0.12148   \n",
       "1                                               VanH    0.00053   \n",
       "\n",
       "           antibiotic_name  \n",
       "0  Tetracycline antibiotic  \n",
       "1  glycoPeptide antibiotic  "
      ]
     },
     "execution_count": 2,
     "metadata": {},
     "output_type": "execute_result"
    }
   ],
   "source": [
    "import pandas as pd\n",
    "df = pd.read_csv(\n",
    "    'https://raw.githubusercontent.com/Junjingw/bacteria-ontologia/refs/heads/main/all_ARM_taxid.csv',\n",
    "    usecols=[0,1,2,3,4]\n",
    ")\n",
    "df[:2]"
   ]
  },
  {
   "cell_type": "code",
   "execution_count": 3,
   "metadata": {},
   "outputs": [],
   "source": [
    "# Contadores para los identificadores únicos de cada tipo de entidad\n",
    "n_bac = 1\n",
    "n_arg = 1\n",
    "n_mut = 1\n",
    "n_ant = 1"
   ]
  },
  {
   "cell_type": "markdown",
   "metadata": {},
   "source": [
    "Enlazamos los datos y los añadimos al grafo:"
   ]
  },
  {
   "cell_type": "code",
   "execution_count": 4,
   "metadata": {},
   "outputs": [],
   "source": [
    "bacteria_to_uri = dict()\n",
    "bacterias_df = df[['pathogen_name', 'taxonid']].drop_duplicates().set_index('pathogen_name')\n",
    "for bacteria in bacterias_df.index:\n",
    "    # Extract linked data\n",
    "    bacteria_uri = dat[f'bac{n_bac}']\n",
    "    taxonid = bacterias_df.taxonid[bacteria]\n",
    "    bacteria_to_uri[bacteria] = bacteria_uri\n",
    "    \n",
    "    # Add corresponding triples\n",
    "    g.add((bacteria_uri, RDF.type, ont.Bacteria))\n",
    "    g.add((bacteria_uri, FOAF.name, Literal(bacteria)))\n",
    "    g.add((bacteria_uri, ont.taxonId, Literal(taxonid, datatype=XSD.integer)))\n",
    "    \n",
    "    n_bac += 1"
   ]
  },
  {
   "cell_type": "code",
   "execution_count": 5,
   "metadata": {},
   "outputs": [],
   "source": [
    "antibiotic_to_uri = dict()\n",
    "for ant in df.antibiotic_name.str.split(',').explode().unique():\n",
    "    # Extract linked data\n",
    "    antibiotic_uri = dat[f'ant{n_ant}']\n",
    "    antibiotic_to_uri[ant] = antibiotic_uri\n",
    "    \n",
    "    # Add corresponding triples\n",
    "    g.add((antibiotic_uri, RDF.type, ont.Antibiotic))\n",
    "    g.add((antibiotic_uri, FOAF.name, Literal(ant)))\n",
    "    \n",
    "    n_ant += 1"
   ]
  },
  {
   "cell_type": "code",
   "execution_count": 6,
   "metadata": {},
   "outputs": [],
   "source": [
    "arg_to_uri = dict()\n",
    "arg_df = df[['ARG_name', 'antibiotic_name']].set_index('ARG_name').antibiotic_name.str.split(',').explode()\n",
    "for arg in arg_df.index.unique():\n",
    "    # Extract linked data\n",
    "    arg_uri = dat[f'arg{n_arg}']\n",
    "    arg_to_uri[arg] = arg_uri\n",
    "    \n",
    "    # Add corresponding triples\n",
    "    g.add((arg_uri, RDF.type, ont.ARG))\n",
    "    g.add((arg_uri, FOAF.name, Literal(arg)))\n",
    "    \n",
    "    # Add antibiotic resistance information\n",
    "    if isinstance(arg_df[arg], str):\n",
    "        g.add((arg_uri, ont.resistantTo, antibiotic_to_uri[arg_df[arg]]))\n",
    "    else:\n",
    "        for ant in arg_df[arg].unique():\n",
    "            g.add((arg_uri, ont.resistantTo, antibiotic_to_uri[ant]))\n",
    "            \n",
    "    n_arg += 1"
   ]
  },
  {
   "cell_type": "code",
   "execution_count": 7,
   "metadata": {},
   "outputs": [],
   "source": [
    "mut_to_uri = dict()\n",
    "mut_df = df.drop(columns=['taxonid', 'antibiotic_name'])\n",
    "for mutation in mut_df.index:\n",
    "    # Extract linked data\n",
    "    mutation_uri = dat[f'mut{n_mut}']\n",
    "    bacteria_uri = bacteria_to_uri[mut_df.pathogen_name[mutation]]\n",
    "    arg_uri = arg_to_uri[mut_df.ARG_name[mutation]]\n",
    "    frequency = mut_df.frequency[mutation]\n",
    "    mut_to_uri[mutation] = mutation_uri\n",
    "    \n",
    "    # Add corresponding triples\n",
    "    g.add((mutation_uri, RDF.type, ont.Mutation))\n",
    "    g.add((mutation_uri, ont.frequency, Literal(frequency, datatype=XSD.float)))\n",
    "    g.add((mutation_uri, ont.linkedToARG, arg_uri))\n",
    "    g.add((bacteria_uri, ont.hasMutation, mutation_uri))\n",
    "    \n",
    "    n_mut += 1\n",
    "    "
   ]
  },
  {
   "cell_type": "markdown",
   "metadata": {},
   "source": [
    "Realizamos _reconciling_ con wikidata para obtener los signos (síntomas, causas y efectos) de cada patógeno:"
   ]
  },
  {
   "cell_type": "code",
   "execution_count": 8,
   "metadata": {},
   "outputs": [],
   "source": [
    "import wikidata_requests as wkd_req\n",
    "temp = bacterias_df.reset_index()\n",
    "temp['signs'] = temp.pathogen_name.apply(wkd_req.get_qualifier).apply(wkd_req.get_signs)\n",
    "bacterias_df = temp.set_index('pathogen_name')"
   ]
  },
  {
   "cell_type": "code",
   "execution_count": 9,
   "metadata": {},
   "outputs": [],
   "source": [
    "exploded_signs_df = bacterias_df.signs.explode()\n",
    "for bacteria in exploded_signs_df.index.unique():\n",
    "    signs = exploded_signs_df[bacteria]\n",
    "    if isinstance(signs, str):\n",
    "        g.add((bacteria_to_uri[bacteria], ont.hasSign, Literal(signs)))\n",
    "    else:\n",
    "        for sign in signs:\n",
    "            g.add((bacteria_to_uri[bacteria], ont.hasSign, Literal(sign)))"
   ]
  },
  {
   "cell_type": "markdown",
   "metadata": {},
   "source": [
    "Guardamos todos estos datos en nuestro triplestore (a esta escala será simplemente un archivo turtle):"
   ]
  },
  {
   "cell_type": "code",
   "execution_count": 10,
   "metadata": {},
   "outputs": [
    {
     "data": {
      "text/plain": [
       "<Graph identifier=N9b3dd1450ad644e4a39fc427b626ec06 (<class 'rdflib.graph.Graph'>)>"
      ]
     },
     "execution_count": 10,
     "metadata": {},
     "output_type": "execute_result"
    }
   ],
   "source": [
    "g.serialize('data.ttl', format='turtle')"
   ]
  }
 ],
 "metadata": {
  "kernelspec": {
   "display_name": "Python 3",
   "language": "python",
   "name": "python3"
  },
  "language_info": {
   "codemirror_mode": {
    "name": "ipython",
    "version": 3
   },
   "file_extension": ".py",
   "mimetype": "text/x-python",
   "name": "python",
   "nbconvert_exporter": "python",
   "pygments_lexer": "ipython3",
   "version": "3.12.8"
  }
 },
 "nbformat": 4,
 "nbformat_minor": 2
}
